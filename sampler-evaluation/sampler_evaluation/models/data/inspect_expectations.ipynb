{
 "cells": [
  {
   "cell_type": "code",
   "execution_count": 9,
   "metadata": {},
   "outputs": [],
   "source": [
    "# load of banana_expectations.pkl\n",
    "import pickle\n",
    "import numpy as np\n",
    "import matplotlib.pyplot as plt\n",
    "import matplotlib.patches as mpatches\n",
    "import matplotlib.lines as mlines\n",
    "import matplotlib.colors as mcolors\n",
    "import matplotlib.cm as cm\n",
    "\n",
    "# Load the data\n",
    "with open('banana_expectations.pkl', 'rb') as f:\n",
    "    data = pickle.load(f)"
   ]
  },
  {
   "cell_type": "code",
   "execution_count": 10,
   "metadata": {},
   "outputs": [
    {
     "data": {
      "text/plain": [
       "{'e_x': array([[ 0.13519399, -0.02643019],\n",
       "        [-0.08510444, -0.09871525],\n",
       "        [-0.12036823,  0.03741527],\n",
       "        [-0.08503363,  0.08592989]], dtype=float32),\n",
       " 'e_x2': array([[ 99.11318 ,  17.72928 ],\n",
       "        [ 96.75334 ,  17.029093],\n",
       "        [101.244095,  20.080462],\n",
       "        [102.820274,  21.07916 ]], dtype=float32),\n",
       " 'e_x4': array([[28365.803 ,  3278.407 ],\n",
       "        [27200.633 ,  3272.1675],\n",
       "        [31456.537 ,  5587.8154],\n",
       "        [32831.254 ,  6470.043 ]], dtype=float32),\n",
       " 'potential_scale_reduction': (Array(0.9402191, dtype=float32),\n",
       "  Array(0.7082065, dtype=float32),\n",
       "  Array(0.71693057, dtype=float32)),\n",
       " 'relative_fluctuations': (Array(218.33241, dtype=float32),\n",
       "  Array(0.11062783, dtype=float32),\n",
       "  Array(0.3907765, dtype=float32))}"
      ]
     },
     "execution_count": 10,
     "metadata": {},
     "output_type": "execute_result"
    }
   ],
   "source": [
    "data"
   ]
  },
  {
   "cell_type": "code",
   "execution_count": 12,
   "metadata": {},
   "outputs": [
    {
     "ename": "ModuleNotFoundError",
     "evalue": "No module named 'models'",
     "output_type": "error",
     "traceback": [
      "\u001b[0;31m---------------------------------------------------------------------------\u001b[0m",
      "\u001b[0;31mModuleNotFoundError\u001b[0m                       Traceback (most recent call last)",
      "\u001b[1;32m/global/homes/r/reubenh/blackjax-benchmarks/src/models/data/inspect_expectations.ipynb Cell 3\u001b[0m line \u001b[0;36m1\n\u001b[0;32m----> <a href='vscode-notebook-cell://ssh-remote%2Bpm/global/homes/r/reubenh/blackjax-benchmarks/src/models/data/inspect_expectations.ipynb#W2sdnNjb2RlLXJlbW90ZQ%3D%3D?line=0'>1</a>\u001b[0m \u001b[39mfrom\u001b[39;00m \u001b[39mmodels\u001b[39;00m \u001b[39mimport\u001b[39;00m banana\n\u001b[1;32m      <a href='vscode-notebook-cell://ssh-remote%2Bpm/global/homes/r/reubenh/blackjax-benchmarks/src/models/data/inspect_expectations.ipynb#W2sdnNjb2RlLXJlbW90ZQ%3D%3D?line=3'>4</a>\u001b[0m banana()\n",
      "\u001b[0;31mModuleNotFoundError\u001b[0m: No module named 'models'"
     ]
    }
   ],
   "source": []
  },
  {
   "cell_type": "code",
   "execution_count": null,
   "metadata": {},
   "outputs": [],
   "source": []
  }
 ],
 "metadata": {
  "kernelspec": {
   "display_name": "Python 3",
   "language": "python",
   "name": "python3"
  },
  "language_info": {
   "codemirror_mode": {
    "name": "ipython",
    "version": 3
   },
   "file_extension": ".py",
   "mimetype": "text/x-python",
   "name": "python",
   "nbconvert_exporter": "python",
   "pygments_lexer": "ipython3",
   "version": "3.11.9"
  }
 },
 "nbformat": 4,
 "nbformat_minor": 2
}
